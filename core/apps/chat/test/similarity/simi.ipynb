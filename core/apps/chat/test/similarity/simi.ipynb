{
 "cells": [
  {
   "cell_type": "code",
   "execution_count": 34,
   "metadata": {},
   "outputs": [],
   "source": [
    "from langchain.document_loaders import TextLoader\n"
   ]
  },
  {
   "cell_type": "code",
   "execution_count": 35,
   "metadata": {},
   "outputs": [],
   "source": [
    "loader = TextLoader('test1.txt')"
   ]
  },
  {
   "cell_type": "code",
   "execution_count": 36,
   "metadata": {},
   "outputs": [],
   "source": [
    "# # \n",
    "# from langchain_community.document_loaders import PDFPlumberLoader\n",
    "\n",
    "# import glob\n",
    "\n",
    "# # 配置信息\n",
    "# PDF_FILES_PATH = 'testpdf.pdf'\n",
    "# EMBEDDING_MODEL = \"nomic-embed-text\"\n",
    "# CHROMA_DB_PATH = 'chroma_db'\n",
    "# CHUNK_SIZE = 1000\n",
    "# CHUNK_OVERLAP = 0\n",
    "\n",
    "\n",
    "# pdf_files = glob.glob(PDF_FILES_PATH)\n",
    "\n",
    "# for file in pdf_files:\n",
    "#     loader = PDFPlumberLoader(file)"
   ]
  },
  {
   "cell_type": "code",
   "execution_count": 37,
   "metadata": {},
   "outputs": [],
   "source": [
    "from langchain.text_splitter import CharacterTextSplitter\n",
    "from langchain.vectorstores import FAISS\n",
    "from langchain_community.embeddings import OllamaEmbeddings\n",
    "\n",
    "documents = loader.load()\n",
    "text_splitter = CharacterTextSplitter(chunk_size=1000, chunk_overlap=50)\n",
    "texts = text_splitter.split_documents(documents)\n",
    "# embeddings = OpenAIEmbeddings()\n",
    "EMBEDDING_MODEL = \"nomic-embed-text\"\n",
    "local_embeddings = OllamaEmbeddings(model=EMBEDDING_MODEL)\n",
    "db = FAISS.from_documents(texts, local_embeddings,normalize_L2=True)"
   ]
  },
  {
   "cell_type": "code",
   "execution_count": 38,
   "metadata": {},
   "outputs": [],
   "source": [
    "retriever = db.as_retriever(search_type=\"similarity_score_threshold\", search_kwargs={\"score_threshold\": .1})"
   ]
  },
  {
   "cell_type": "code",
   "execution_count": 39,
   "metadata": {},
   "outputs": [],
   "source": [
    "docs = retriever.get_relevant_documents(\"允思拓公司的市场定位是什么？\")"
   ]
  },
  {
   "cell_type": "code",
   "execution_count": 40,
   "metadata": {},
   "outputs": [
    {
     "data": {
      "text/plain": [
       "[(Document(id='092a7702-0011-49eb-adcf-01998058b5d2', metadata={'source': 'test1.txt'}, page_content='允思拓生物科技售前AI工程师培训资料\\n第一部分：公司主营业务介绍\\n1.1 公司概况\\n允思拓（天津）生物科技有限公司成立于2023 年 4 月，注册资本 200 万元，总部位于天津经济技术开发区滨海 - 中关村科技园。公司聚焦微生物、基因组及转录组技术领域，依托生物信息学与 AI 技术整合，作为一家聚焦生物科技领域的创新型企业，致力于为高校、科研院所、医疗机构及农业企业提供专业化服务。\\n1.2 主要产品与服务\\n•\\t微生物：\\n1、病原微生物监测预警；\\n技术应用：开发新冠病毒监测预警技术、基于高通量测序的病原细菌溯源算法，实现快速病原体鉴定与传播链追踪；结合基因组、转录组数据，构建病原微生物进化树，辅助疫情防控与溯源决策。\\n2、草图\\n3、完成图\\n4、扩增子\\n5、宏基因组\\n•\\t基因组：\\n1、全基因组survey\\n2、基因组组装、注释\\n3、动植物基因组T2T分析\\n4、图形泛基因组分析\\n5、比较基因组分析\\n6、Hic辅助染色体挂载分析\\n7、全基因组甲基化分析\\n8、全基因组Gwas分析\\n•\\t转录组：\\n1、原核/真核转录组分析\\n2、Pacbio全长转录组分析\\n3、宏转录组分析\\n4、smallRNA/lncRNA分析\\n1.3 技术优势\\n•\\t核心技术：\\n1、核心团队建立的基于高通量测序的病原微生物检测溯源的算法和流程，连续三年在“联合国秘书长调查机制”能力评测中表现优异，获得相关部委表彰。疫情期间新冠监测报告多次被中央办公厅采用，并获中央领导批示。\\n2、公司核心团队构建超大复杂基因组组装算法和策略。与中国科学院海洋研究所、中国林业科学研究院、河南省农科院等单位合作完成了包括对虾、海参、扇贝、藏野驴，芝麻和杨树等多种复杂大基因组的测序工作。\\n3、公司核心团队平均具有12.5年行业从业经验。长期从事基因组学及生物信息学研究，专注于群体基因组进化和变异监测领域。累计开发了包括高复杂度海洋生物组装技术、A2基因型奶牛筛选技术、病原微生物检测溯源等算法和流程。'),\n",
       "  0.42429019158416725),\n",
       " (Document(id='90973b13-770b-41e9-8b32-a09ca244c73a', metadata={'source': 'test1.txt'}, page_content='•\\t研发团队：团队成员熟练掌握企业管理所需的各类专业知识，包括涉及各基因组技术的产品开发、生产扩大、商业扩张和全球客户参与业务。主要管理人员在相关领域深耕10年以上，积累了丰富的分析和开发经验。我们坚持紧跟科研趋势，不断创新，为科研工作者提供最具影响力的科学成果和技术洞察。\\n•\\t知识产权：NA\\n1.4 市场定位\\n•\\t目标客户：高校、科研院所、医疗机构及农业企业\\n•\\t竞争优势：\\n1核心成员平均拥有10多年的行业经验，专注微生物、动植物基因组测序分析及算法开发，多大10余项核心技术，包括新冠病毒监测预警、病原细菌溯源算法等；\\n2价格相对优势；首先我们人工成本低，人效高，比如大规模这种公司，管理层和人力等会占实际产生利润的人员2：3，也就是说他必须卖高价才可以维持公司正常运转\\n3 我们售后服务相对优势；我们团队都是专业深耕这个领域很多年，有丰富的项目经验，比如大规模公司他们好多都是新培养的新人去做，而且项目巨多，没有多余时间去处理售后项目\\n4 项目周期相对优势；大公司会有运营对接客户，这种会延迟项目问题的解决及准确的传达问题点，我们采用信息直接对接客户的方式，能快速解决客户的痛点及问题'),\n",
       "  0.3525626195927507),\n",
       " (Document(id='f6ea58f6-5149-4a2a-9911-678b327c2832', metadata={'source': 'test1.txt'}, page_content='第二部分：价格体系\\n2.1 产品定价\\n     \\n样本量\\t<=10\\t<=50\\t<=100\\t数据量+1G\\t周期\\nmeta（6G）\\t400\\t380\\t350\\t50\\t30d-40d\\n真核转录组（6G）\\t400\\t380\\t350\\t50\\t30d-40d\\n16S（5wtags）\\t100\\t90\\t80\\t\\t30d-40d\\n原核重测序（1G）\\t250\\t220\\t200\\t30\\t30d-40d\\n真核重测序（3G）\\t300\\t280\\t260\\t30\\t30d-40d\\n细菌完成图(ONT)\\t1500\\t1300\\t1100\\t\\t30d-40d\\n细菌完成图(Pacbio)\\t2800\\t2500\\t2200\\t\\t30d-40d\\n细菌框架图（1G）\\t280\\t260\\t230\\t\\t30d-40d\\n真菌框架图（3G）\\t500\\t480\\t450\\t150\\t30d-40d\\n真菌精细图（ONT）（3G）\\t3000\\t2800\\t2500\\t1000\\t30d-40d\\n真菌精细图（PB）（3G）\\t5000\\t4800\\t4500\\t1500\\t30d-40d\\n三代meta（ONT）（10G）\\t3000\\t2900\\t2800\\t\\t30d-40d\\n二代宏转录组 (非病毒6Gb)\\t1600\\t1400\\t1200\\t\\t30d-40d\\n二代宏转录组 (病毒6Gb)\\t1800\\t1600\\t1400\\t\\t30d-40d\\n原核转录组（3G）\\t700\\t650\\t600\\t\\t30d-40d'),\n",
       "  0.21250400583771367)]"
      ]
     },
     "execution_count": 40,
     "metadata": {},
     "output_type": "execute_result"
    }
   ],
   "source": [
    "query=\"允思拓公司的市场定位是什么？\"\n",
    "db.similarity_search_with_relevance_scores(query)"
   ]
  },
  {
   "cell_type": "code",
   "execution_count": 41,
   "metadata": {},
   "outputs": [],
   "source": [
    "from langchain_ollama import ChatOllama\n",
    "\n",
    "model_name=\"deepseek-r1:8b\"\n",
    "llm = ChatOllama(model=model_name,\n",
    "                            base_url=\"http://10.168.6.88:11434\",temperature = 0,mirostat_tau=2.0,top_k=10,top_p=0.5\n",
    "                            )"
   ]
  },
  {
   "cell_type": "code",
   "execution_count": 42,
   "metadata": {},
   "outputs": [],
   "source": [
    "# Helper function for printing docs\n",
    "\n",
    "\n",
    "def pretty_print_docs(docs):\n",
    "    print(\n",
    "        f\"\\n{'-' * 100}\\n\".join(\n",
    "            [f\"Document {i+1}:\\n\\n\" + d.page_content for i, d in enumerate(docs)]\n",
    "        )\n",
    "    )"
   ]
  },
  {
   "cell_type": "code",
   "execution_count": 43,
   "metadata": {},
   "outputs": [
    {
     "name": "stdout",
     "output_type": "stream",
     "text": [
      "Document 1:\n",
      "\n",
      "第二部分：价格体系\n",
      "2.1 产品定价\n",
      "     \n",
      "样本量\t<=10\t<=50\t<=100\t数据量+1G\t周期\n",
      "meta（6G）\t400\t380\t350\t50\t30d-40d\n",
      "真核转录组（6G）\t400\t380\t350\t50\t30d-40d\n",
      "16S（5wtags）\t100\t90\t80\t\t30d-40d\n",
      "原核重测序（1G）\t250\t220\t200\t30\t30d-40d\n",
      "真核重测序（3G）\t300\t280\t260\t30\t30d-40d\n",
      "细菌完成图(ONT)\t1500\t1300\t1100\t\t30d-40d\n",
      "细菌完成图(Pacbio)\t2800\t2500\t2200\t\t30d-40d\n",
      "细菌框架图（1G）\t280\t260\t230\t\t30d-40d\n",
      "真菌框架图（3G）\t500\t480\t450\t150\t30d-40d\n",
      "真菌精细图（ONT）（3G）\t3000\t2800\t2500\t1000\t30d-40d\n",
      "真菌精细图（PB）（3G）\t5000\t4800\t4500\t1500\t30d-40d\n",
      "三代meta（ONT）（10G）\t3000\t2900\t2800\t\t30d-40d\n",
      "二代宏转录组 (非病毒6Gb)\t1600\t1400\t1200\t\t30d-40d\n",
      "二代宏转录组 (病毒6Gb)\t1800\t1600\t1400\t\t30d-40d\n",
      "原核转录组（3G）\t700\t650\t600\t\t30d-40d\n"
     ]
    }
   ],
   "source": [
    "# 另一种更简单但更强大的过滤器\n",
    "from langchain.retrievers import ContextualCompressionRetriever\n",
    "from langchain.retrievers.document_compressors import LLMChainFilter\n",
    "\n",
    "_filter = LLMChainFilter.from_llm(llm)\n",
    "compression_retriever = ContextualCompressionRetriever(\n",
    "    base_compressor=_filter, base_retriever=retriever\n",
    ")\n",
    "\n",
    "compressed_docs = compression_retriever.invoke(\n",
    "    \"我要做细菌框架图（1G）,大概要多少钱？\"\n",
    ")\n",
    "pretty_print_docs(compressed_docs)"
   ]
  },
  {
   "cell_type": "code",
   "execution_count": 44,
   "metadata": {},
   "outputs": [
    {
     "data": {
      "text/plain": [
       "[(Document(id='90973b13-770b-41e9-8b32-a09ca244c73a', metadata={'source': 'test1.txt'}, page_content='•\\t研发团队：团队成员熟练掌握企业管理所需的各类专业知识，包括涉及各基因组技术的产品开发、生产扩大、商业扩张和全球客户参与业务。主要管理人员在相关领域深耕10年以上，积累了丰富的分析和开发经验。我们坚持紧跟科研趋势，不断创新，为科研工作者提供最具影响力的科学成果和技术洞察。\\n•\\t知识产权：NA\\n1.4 市场定位\\n•\\t目标客户：高校、科研院所、医疗机构及农业企业\\n•\\t竞争优势：\\n1核心成员平均拥有10多年的行业经验，专注微生物、动植物基因组测序分析及算法开发，多大10余项核心技术，包括新冠病毒监测预警、病原细菌溯源算法等；\\n2价格相对优势；首先我们人工成本低，人效高，比如大规模这种公司，管理层和人力等会占实际产生利润的人员2：3，也就是说他必须卖高价才可以维持公司正常运转\\n3 我们售后服务相对优势；我们团队都是专业深耕这个领域很多年，有丰富的项目经验，比如大规模公司他们好多都是新培养的新人去做，而且项目巨多，没有多余时间去处理售后项目\\n4 项目周期相对优势；大公司会有运营对接客户，这种会延迟项目问题的解决及准确的传达问题点，我们采用信息直接对接客户的方式，能快速解决客户的痛点及问题'),\n",
       "  0.39923207782995473),\n",
       " (Document(id='f6ea58f6-5149-4a2a-9911-678b327c2832', metadata={'source': 'test1.txt'}, page_content='第二部分：价格体系\\n2.1 产品定价\\n     \\n样本量\\t<=10\\t<=50\\t<=100\\t数据量+1G\\t周期\\nmeta（6G）\\t400\\t380\\t350\\t50\\t30d-40d\\n真核转录组（6G）\\t400\\t380\\t350\\t50\\t30d-40d\\n16S（5wtags）\\t100\\t90\\t80\\t\\t30d-40d\\n原核重测序（1G）\\t250\\t220\\t200\\t30\\t30d-40d\\n真核重测序（3G）\\t300\\t280\\t260\\t30\\t30d-40d\\n细菌完成图(ONT)\\t1500\\t1300\\t1100\\t\\t30d-40d\\n细菌完成图(Pacbio)\\t2800\\t2500\\t2200\\t\\t30d-40d\\n细菌框架图（1G）\\t280\\t260\\t230\\t\\t30d-40d\\n真菌框架图（3G）\\t500\\t480\\t450\\t150\\t30d-40d\\n真菌精细图（ONT）（3G）\\t3000\\t2800\\t2500\\t1000\\t30d-40d\\n真菌精细图（PB）（3G）\\t5000\\t4800\\t4500\\t1500\\t30d-40d\\n三代meta（ONT）（10G）\\t3000\\t2900\\t2800\\t\\t30d-40d\\n二代宏转录组 (非病毒6Gb)\\t1600\\t1400\\t1200\\t\\t30d-40d\\n二代宏转录组 (病毒6Gb)\\t1800\\t1600\\t1400\\t\\t30d-40d\\n原核转录组（3G）\\t700\\t650\\t600\\t\\t30d-40d'),\n",
       "  0.34556021574060525),\n",
       " (Document(id='092a7702-0011-49eb-adcf-01998058b5d2', metadata={'source': 'test1.txt'}, page_content='允思拓生物科技售前AI工程师培训资料\\n第一部分：公司主营业务介绍\\n1.1 公司概况\\n允思拓（天津）生物科技有限公司成立于2023 年 4 月，注册资本 200 万元，总部位于天津经济技术开发区滨海 - 中关村科技园。公司聚焦微生物、基因组及转录组技术领域，依托生物信息学与 AI 技术整合，作为一家聚焦生物科技领域的创新型企业，致力于为高校、科研院所、医疗机构及农业企业提供专业化服务。\\n1.2 主要产品与服务\\n•\\t微生物：\\n1、病原微生物监测预警；\\n技术应用：开发新冠病毒监测预警技术、基于高通量测序的病原细菌溯源算法，实现快速病原体鉴定与传播链追踪；结合基因组、转录组数据，构建病原微生物进化树，辅助疫情防控与溯源决策。\\n2、草图\\n3、完成图\\n4、扩增子\\n5、宏基因组\\n•\\t基因组：\\n1、全基因组survey\\n2、基因组组装、注释\\n3、动植物基因组T2T分析\\n4、图形泛基因组分析\\n5、比较基因组分析\\n6、Hic辅助染色体挂载分析\\n7、全基因组甲基化分析\\n8、全基因组Gwas分析\\n•\\t转录组：\\n1、原核/真核转录组分析\\n2、Pacbio全长转录组分析\\n3、宏转录组分析\\n4、smallRNA/lncRNA分析\\n1.3 技术优势\\n•\\t核心技术：\\n1、核心团队建立的基于高通量测序的病原微生物检测溯源的算法和流程，连续三年在“联合国秘书长调查机制”能力评测中表现优异，获得相关部委表彰。疫情期间新冠监测报告多次被中央办公厅采用，并获中央领导批示。\\n2、公司核心团队构建超大复杂基因组组装算法和策略。与中国科学院海洋研究所、中国林业科学研究院、河南省农科院等单位合作完成了包括对虾、海参、扇贝、藏野驴，芝麻和杨树等多种复杂大基因组的测序工作。\\n3、公司核心团队平均具有12.5年行业从业经验。长期从事基因组学及生物信息学研究，专注于群体基因组进化和变异监测领域。累计开发了包括高复杂度海洋生物组装技术、A2基因型奶牛筛选技术、病原微生物检测溯源等算法和流程。'),\n",
       "  0.24147473797973795)]"
      ]
     },
     "execution_count": 44,
     "metadata": {},
     "output_type": "execute_result"
    }
   ],
   "source": [
    "query=\"我要做细菌框架图（1G）,大概要多少钱？\"\n",
    "db.similarity_search_with_relevance_scores(query)"
   ]
  }
 ],
 "metadata": {
  "kernelspec": {
   "display_name": "deepseek",
   "language": "python",
   "name": "python3"
  },
  "language_info": {
   "codemirror_mode": {
    "name": "ipython",
    "version": 3
   },
   "file_extension": ".py",
   "mimetype": "text/x-python",
   "name": "python",
   "nbconvert_exporter": "python",
   "pygments_lexer": "ipython3",
   "version": "3.12.9"
  }
 },
 "nbformat": 4,
 "nbformat_minor": 2
}
