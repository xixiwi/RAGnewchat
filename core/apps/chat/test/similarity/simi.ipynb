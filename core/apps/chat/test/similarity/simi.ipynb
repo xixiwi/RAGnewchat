{
 "cells": [
  {
   "cell_type": "code",
   "execution_count": 12,
   "metadata": {},
   "outputs": [],
   "source": [
    "# from langchain.document_loaders import TextLoader\n",
    "\n",
    "from langchain_community.document_loaders import TextLoader\n"
   ]
  },
  {
   "cell_type": "code",
   "execution_count": 13,
   "metadata": {},
   "outputs": [],
   "source": [
    "# loader = TextLoader('test1.txt')"
   ]
  },
  {
   "cell_type": "code",
   "execution_count": 14,
   "metadata": {},
   "outputs": [],
   "source": [
    "# \n",
    "from langchain_community.document_loaders import PDFPlumberLoader\n",
    "\n",
    "import glob\n",
    "\n",
    "# 配置信息\n",
    "PDF_FILES_PATH = 'testpdf.pdf'\n",
    "EMBEDDING_MODEL = \"nomic-embed-text\"\n",
    "CHROMA_DB_PATH = 'chroma_db'\n",
    "CHUNK_SIZE = 2000\n",
    "CHUNK_OVERLAP = 100\n",
    "\n",
    "\n",
    "pdf_files = glob.glob(PDF_FILES_PATH)\n",
    "\n",
    "for file in pdf_files:\n",
    "    loader = PDFPlumberLoader(file)"
   ]
  },
  {
   "cell_type": "code",
   "execution_count": 15,
   "metadata": {},
   "outputs": [],
   "source": [
    "from langchain.text_splitter import CharacterTextSplitter\n",
    "# from langchain.vectorstores import FAISS\n",
    "from langchain_community.vectorstores import FAISS\n",
    "# from langchain_community.embeddings import OllamaEmbeddings\n",
    "from langchain_ollama import OllamaEmbeddings\n",
    "\n",
    "documents = loader.load()\n",
    "text_splitter = CharacterTextSplitter(chunk_size=1000, chunk_overlap=50)\n",
    "texts = text_splitter.split_documents(documents)\n",
    "# embeddings = OpenAIEmbeddings()\n",
    "EMBEDDING_MODEL = \"nomic-embed-text\"\n",
    "local_embeddings = OllamaEmbeddings(model=EMBEDDING_MODEL)\n",
    "db = FAISS.from_documents(texts, local_embeddings,normalize_L2=True)"
   ]
  },
  {
   "cell_type": "code",
   "execution_count": 16,
   "metadata": {},
   "outputs": [],
   "source": [
    "retriever = db.as_retriever(search_type=\"similarity_score_threshold\", search_kwargs={\"score_threshold\": .1})"
   ]
  },
  {
   "cell_type": "code",
   "execution_count": 17,
   "metadata": {},
   "outputs": [],
   "source": [
    "docs = retriever.get_relevant_documents(\"允思拓公司的市场定位是什么？\")"
   ]
  },
  {
   "cell_type": "code",
   "execution_count": 18,
   "metadata": {},
   "outputs": [
    {
     "data": {
      "text/plain": [
       "[(Document(id='09c53262-1697-4deb-9b59-5d112120f29b', metadata={'source': 'testpdf.pdf', 'file_path': 'testpdf.pdf', 'page': 0, 'total_pages': 12, 'Author': 'wangl', 'Creator': 'Microsoft® Word 2019', 'CreationDate': \"D:20250314161411+08'00'\", 'ModDate': \"D:20250314161411+08'00'\", 'Producer': 'Microsoft® Word 2019'}, page_content='允思拓生物科技售前 AI 工程师培训资料\\n第一部分：公司主营业务介绍\\n1.1 公司概况\\n允思拓（天津）生物科技有限公司成立于2023 年 4 月，注册资本 200 万元，总部位于天津经济技术开发区滨\\n海 - 中关村科技园。公司聚焦微生物、基因组及转录组技术领域，依托生物信息学与 AI 技术整合，作为一家聚\\n焦生物科技领域的创新型企业，致力于为高校、科研院所、医疗机构及农业企业提供专业化服务。\\n1.2 主要产品与服务\\n• 微生物：\\n1、病原微生物监测预警；\\n技术应用：开发新冠病毒监测预警技术、基于高通量测序的病原细菌溯源算法，实现快速病原体鉴定与传\\n播链追踪；结合基因组、转录组数据，构建病原微生物进化树，辅助疫情防控与溯源决策。\\n2、草图\\n3、完成图\\n4、扩增子\\n5、宏基因组\\n• 基因组：\\n1、全基因组survey\\n2、基因组组装、注释\\n3、动植物基因组T2T分析\\n4、图形泛基因组分析\\n5、比较基因组分析\\n6、Hic辅助染色体挂载分析\\n7、全基因组甲基化分析\\n8、全基因组Gwas分析\\n• 转录组：\\n1、原核/真核转录组分析\\n2、Pacbio全长转录组分析\\n3、宏转录组分析\\n4、smallRNA/lncRNA分析\\n1.3 技术优势\\n• 核心技术：'),\n",
       "  0.48889490403039415),\n",
       " (Document(id='726ecf47-9f7d-49de-bd6d-f66ee1422f60', metadata={'source': 'testpdf.pdf', 'file_path': 'testpdf.pdf', 'page': 1, 'total_pages': 12, 'Author': 'wangl', 'Creator': 'Microsoft® Word 2019', 'CreationDate': \"D:20250314161411+08'00'\", 'ModDate': \"D:20250314161411+08'00'\", 'Producer': 'Microsoft® Word 2019'}, page_content='1、核心团队建立的基于高通量测序的病原微生物检测溯源的算法和流程，连续三年\\n在“联合国秘书长调查机制”能力评测中表现优异，获得相关部委表彰。疫情期间\\n新冠监测报告多次被中央办公厅采用，并获中央领导批示。\\n2、公司核心团队构建超大复杂基因组组装算法和策略。与中国科学院海洋研究所、\\n中国林业科学研究院、河南省农科院等单位合作完成了包括对虾、海参、扇贝、藏\\n野驴，芝麻和杨树等多种复杂大基因组的测序工作。\\n3、公司核心团队平均具有 12.5 年行业从业经验。长期从事基因组学及生物信息学\\n研究，专注于群体基因组进化和变异监测领域。累计开发了包括高复杂度海洋生物\\n组装技术、A2基因型奶牛筛选技术、病原微生物检测溯源等算法和流程。\\n• 研发团队：团队成员熟练掌握企业管理所需的各类专业知识，包括涉及各基因组技\\n术的产品开发、生产扩大、商业扩张和全球客户参与业务。主要管理人员在相关领\\n域深耕10年以上，积累了丰富的分析和开发经验。我们坚持紧跟科研趋势，不断创\\n新，为科研工作者提供最具影响力的科学成果和技术洞察。\\n• 知识产权：NA\\n1.4 市场定位\\n• 目标客户：高校、科研院所、医疗机构及农业企业\\n• 竞争优势：\\n1核心成员平均拥有10多年的行业经验，专注微生物、动植物基因组测序分析及算\\n法开发，多大10余项核心技术，包括新冠病毒监测预警、病原细菌溯源算法等；\\n2 价格相对优势；首先我们人工成本低，人效高，比如大规模这种公司，管理层和\\n人力等会占实际产生利润的人员2：3，也就是说他必须卖高价才可以维持公司正常\\n运转\\n3 我们售后服务相对优势；我们团队都是专业深耕这个领域很多年，有丰富的项目\\n经验，比如大规模公司他们好多都是新培养的新人去做，而且项目巨多，没有多余\\n时间去处理售后项目\\n4 项目周期相对优势；大公司会有运营对接客户，这种会延迟项目问题的解决及准\\n确的传达问题点，我们采用信息直接对接客户的方式，能快速解决客户的痛点及问\\n题\\n第二部分：价格体系\\n2.1 产品定价\\n样本量 <=10 <=50 <=100 数据量+1G 周期'),\n",
       "  0.39192330853598356),\n",
       " (Document(id='f84d436c-35be-438d-80b4-616b7bcc8e15', metadata={'source': 'testpdf.pdf', 'file_path': 'testpdf.pdf', 'page': 2, 'total_pages': 12, 'Author': 'wangl', 'Creator': 'Microsoft® Word 2019', 'CreationDate': \"D:20250314161411+08'00'\", 'ModDate': \"D:20250314161411+08'00'\", 'Producer': 'Microsoft® Word 2019'}, page_content='meta（6G） 400 380 350 50 30d-40d\\n真核转录组（6G） 400 380 350 50 30d-40d\\n16S（5wtags） 100 90 80 30d-40d\\n原核重测序（1G） 250 220 200 30 30d-40d\\n真核重测序（3G） 300 280 260 30 30d-40d\\n细菌完成图(ONT) 1500 1300 1100 30d-40d\\n细菌完成图(Pacbio) 2800 2500 2200 30d-40d\\n细菌框架图（1G） 280 260 230 30d-40d\\n真菌框架图（3G） 500 480 450 150 30d-40d\\n真菌精细图（ONT）（3G） 3000 2800 2500 1000 30d-40d\\n真菌精细图（PB）（3G） 5000 4800 4500 1500 30d-40d\\n三代meta（ONT）（10G） 3000 2900 2800 30d-40d\\n二代宏转录组 (非病毒 6Gb) 1600 1400 1200 30d-40d\\n二代宏转录组 (病毒 6Gb) 1800 1600 1400 30d-40d\\n原核转录组（3G） 700 650 600 30d-40d\\n2.2 折扣与促销\\n量大可直接联系产品经理\\n第三部分：文章规划 3.1 文章案例分析\\n用deepseek自己索取一下试试\\n第四部分：送样建议\\n网址获取\\n1. 植物样本\\n1.1 植物组织样本说明\\n(1)植物主要包括禾本科植物、十字花科植物、常见作物、林木、常见蔬菜和花卉、中药、蕨类或苔藓。\\n(2)样本的取材优先选择核酸含量相对较高的组织。幼嫩的组织最佳，如幼叶，幼芽。可送组培苗但不推荐冷冻保存的组织。\\n建议优先采集新鲜组织样品送样，尽量避免送保存过久的组织样本和反复冻融的组织样本。\\n1.2 样本制备运输注意事项'),\n",
       "  0.3469981397712515),\n",
       " (Document(id='a57822a0-0917-4d46-9277-8922dae41751', metadata={'source': 'testpdf.pdf', 'file_path': 'testpdf.pdf', 'page': 6, 'total_pages': 12, 'Author': 'wangl', 'Creator': 'Microsoft® Word 2019', 'CreationDate': \"D:20250314161411+08'00'\", 'ModDate': \"D:20250314161411+08'00'\", 'Producer': 'Microsoft® Word 2019'}, page_content='(4)干冰寄送：\\n寄送样本时需要足够的干冰，以保证全程低温运输。\\n•\\n3.3 样本保存要求\\n•\\n•\\n3.3.1 动物或人新鲜血液样本\\n• 当新鲜血液采集后运输并可在 5 d内运达时，请参照如下指导：\\n(1)用 EDTA管采集血液。采集后的血液可放置到采血管混匀仪室温混匀 15 min，或手动轻柔缓慢颠倒混匀 15次，确保\\n无凝血现象。\\n(2)采血用封口膜封口后保存在 4℃，使用 4℃冰袋运输（请勿使用-20 ℃冰袋）。\\n3.3.2 鱼血（或水生动物血液）样本\\n• 新鲜采取的血液，要加抗凝剂，抗凝剂可以根据客户自己平常的研究来确定。采样后，请妥善-80℃\\n保存好，运输到实验室前不能有过冻融。取好的样品一周内送到实验室，超过一周请重新准备样本。\\n3.3.3 冷冻血液采集及预处理指南'),\n",
       "  0.32186597400420536)]"
      ]
     },
     "execution_count": 18,
     "metadata": {},
     "output_type": "execute_result"
    }
   ],
   "source": [
    "query=\"允思拓公司的市场定位是什么？\"\n",
    "db.similarity_search_with_relevance_scores(query)"
   ]
  },
  {
   "cell_type": "code",
   "execution_count": 19,
   "metadata": {},
   "outputs": [],
   "source": [
    "from langchain_ollama import ChatOllama\n",
    "\n",
    "model_name=\"deepseek-r1:8b\"\n",
    "llm = ChatOllama(model=model_name,\n",
    "                            base_url=\"http://10.168.6.88:11434\",temperature = 0,mirostat_tau=2.0,top_k=10,top_p=0.5\n",
    "                            )"
   ]
  },
  {
   "cell_type": "code",
   "execution_count": 20,
   "metadata": {},
   "outputs": [],
   "source": [
    "# Helper function for printing docs\n",
    "def pretty_print_docs(docs):\n",
    "    print(\n",
    "        f\"\\n{'-' * 100}\\n\".join(\n",
    "            [f\"Document {i+1}:\\n\\n\" + d.page_content for i, d in enumerate(docs)]\n",
    "        )\n",
    "    )"
   ]
  },
  {
   "cell_type": "code",
   "execution_count": 21,
   "metadata": {},
   "outputs": [
    {
     "name": "stdout",
     "output_type": "stream",
     "text": [
      "Document 1:\n",
      "\n",
      "1、核心团队建立的基于高通量测序的病原微生物检测溯源的算法和流程，连续三年\n",
      "在“联合国秘书长调查机制”能力评测中表现优异，获得相关部委表彰。疫情期间\n",
      "新冠监测报告多次被中央办公厅采用，并获中央领导批示。\n",
      "2、公司核心团队构建超大复杂基因组组装算法和策略。与中国科学院海洋研究所、\n",
      "中国林业科学研究院、河南省农科院等单位合作完成了包括对虾、海参、扇贝、藏\n",
      "野驴，芝麻和杨树等多种复杂大基因组的测序工作。\n",
      "3、公司核心团队平均具有 12.5 年行业从业经验。长期从事基因组学及生物信息学\n",
      "研究，专注于群体基因组进化和变异监测领域。累计开发了包括高复杂度海洋生物\n",
      "组装技术、A2基因型奶牛筛选技术、病原微生物检测溯源等算法和流程。\n",
      "• 研发团队：团队成员熟练掌握企业管理所需的各类专业知识，包括涉及各基因组技\n",
      "术的产品开发、生产扩大、商业扩张和全球客户参与业务。主要管理人员在相关领\n",
      "域深耕10年以上，积累了丰富的分析和开发经验。我们坚持紧跟科研趋势，不断创\n",
      "新，为科研工作者提供最具影响力的科学成果和技术洞察。\n",
      "• 知识产权：NA\n",
      "1.4 市场定位\n",
      "• 目标客户：高校、科研院所、医疗机构及农业企业\n",
      "• 竞争优势：\n",
      "1核心成员平均拥有10多年的行业经验，专注微生物、动植物基因组测序分析及算\n",
      "法开发，多大10余项核心技术，包括新冠病毒监测预警、病原细菌溯源算法等；\n",
      "2 价格相对优势；首先我们人工成本低，人效高，比如大规模这种公司，管理层和\n",
      "人力等会占实际产生利润的人员2：3，也就是说他必须卖高价才可以维持公司正常\n",
      "运转\n",
      "3 我们售后服务相对优势；我们团队都是专业深耕这个领域很多年，有丰富的项目\n",
      "经验，比如大规模公司他们好多都是新培养的新人去做，而且项目巨多，没有多余\n",
      "时间去处理售后项目\n",
      "4 项目周期相对优势；大公司会有运营对接客户，这种会延迟项目问题的解决及准\n",
      "确的传达问题点，我们采用信息直接对接客户的方式，能快速解决客户的痛点及问\n",
      "题\n",
      "第二部分：价格体系\n",
      "2.1 产品定价\n",
      "样本量 <=10 <=50 <=100 数据量+1G 周期\n"
     ]
    }
   ],
   "source": [
    "# 另一种更简单但更强大的过滤器\n",
    "from langchain.retrievers import ContextualCompressionRetriever\n",
    "from langchain.retrievers.document_compressors import LLMChainFilter\n",
    "\n",
    "_filter = LLMChainFilter.from_llm(llm)\n",
    "compression_retriever = ContextualCompressionRetriever(\n",
    "    base_compressor=_filter, base_retriever=retriever\n",
    ")\n",
    "\n",
    "compressed_docs = compression_retriever.invoke(\n",
    "    \"我要做细菌框架图（1G）,大概要多少钱？\"\n",
    ")\n",
    "pretty_print_docs(compressed_docs)\n",
    "\n",
    "# 后续结合compressed_docs和问题构建qa链得到结果"
   ]
  },
  {
   "cell_type": "code",
   "execution_count": 22,
   "metadata": {},
   "outputs": [
    {
     "data": {
      "text/plain": [
       "[(Document(id='726ecf47-9f7d-49de-bd6d-f66ee1422f60', metadata={'source': 'testpdf.pdf', 'file_path': 'testpdf.pdf', 'page': 1, 'total_pages': 12, 'Author': 'wangl', 'Creator': 'Microsoft® Word 2019', 'CreationDate': \"D:20250314161411+08'00'\", 'ModDate': \"D:20250314161411+08'00'\", 'Producer': 'Microsoft® Word 2019'}, page_content='1、核心团队建立的基于高通量测序的病原微生物检测溯源的算法和流程，连续三年\\n在“联合国秘书长调查机制”能力评测中表现优异，获得相关部委表彰。疫情期间\\n新冠监测报告多次被中央办公厅采用，并获中央领导批示。\\n2、公司核心团队构建超大复杂基因组组装算法和策略。与中国科学院海洋研究所、\\n中国林业科学研究院、河南省农科院等单位合作完成了包括对虾、海参、扇贝、藏\\n野驴，芝麻和杨树等多种复杂大基因组的测序工作。\\n3、公司核心团队平均具有 12.5 年行业从业经验。长期从事基因组学及生物信息学\\n研究，专注于群体基因组进化和变异监测领域。累计开发了包括高复杂度海洋生物\\n组装技术、A2基因型奶牛筛选技术、病原微生物检测溯源等算法和流程。\\n• 研发团队：团队成员熟练掌握企业管理所需的各类专业知识，包括涉及各基因组技\\n术的产品开发、生产扩大、商业扩张和全球客户参与业务。主要管理人员在相关领\\n域深耕10年以上，积累了丰富的分析和开发经验。我们坚持紧跟科研趋势，不断创\\n新，为科研工作者提供最具影响力的科学成果和技术洞察。\\n• 知识产权：NA\\n1.4 市场定位\\n• 目标客户：高校、科研院所、医疗机构及农业企业\\n• 竞争优势：\\n1核心成员平均拥有10多年的行业经验，专注微生物、动植物基因组测序分析及算\\n法开发，多大10余项核心技术，包括新冠病毒监测预警、病原细菌溯源算法等；\\n2 价格相对优势；首先我们人工成本低，人效高，比如大规模这种公司，管理层和\\n人力等会占实际产生利润的人员2：3，也就是说他必须卖高价才可以维持公司正常\\n运转\\n3 我们售后服务相对优势；我们团队都是专业深耕这个领域很多年，有丰富的项目\\n经验，比如大规模公司他们好多都是新培养的新人去做，而且项目巨多，没有多余\\n时间去处理售后项目\\n4 项目周期相对优势；大公司会有运营对接客户，这种会延迟项目问题的解决及准\\n确的传达问题点，我们采用信息直接对接客户的方式，能快速解决客户的痛点及问\\n题\\n第二部分：价格体系\\n2.1 产品定价\\n样本量 <=10 <=50 <=100 数据量+1G 周期'),\n",
       "  0.45057831896532163),\n",
       " (Document(id='8d17e7a4-e20b-4ea2-83d1-6d964186bdf7', metadata={'source': 'testpdf.pdf', 'file_path': 'testpdf.pdf', 'page': 10, 'total_pages': 12, 'Author': 'wangl', 'Creator': 'Microsoft® Word 2019', 'CreationDate': \"D:20250314161411+08'00'\", 'ModDate': \"D:20250314161411+08'00'\", 'Producer': 'Microsoft® Word 2019'}, page_content='6. PCR产物\\n•\\n6.1 组织样本\\n•\\nPCR-free文库 PCR-free文库\\n样本类型\\n350bp (基因组) 非 350bp （基因组）\\n植物组织 >3g >3g\\n动物组织 >1.5g >1.5g\\n细胞 >8*108个 >>8*108个\\n动物血液(哺乳类) >5mL >5mL\\n动物血液(红细胞有核类) >3mL >3mL\\n唾液 >10mL >10mL\\n菌液(对数生长期) >5mL >5mL\\n土壤 3mL 3mL\\n粪便、肠道内容物、食糜 >2mL >2mL\\n瘤胃液 >2mL >2mL\\n水体(滤膜) 直径4cm滤膜 3张 直径4cm滤膜3张\\n拭子 >10个 >10个\\n•\\n•\\n6.2 核酸样本\\n• a.PCR产物要经过纯化（如胶回收纯化），确保条带单一，无降解，无引物二聚体\\nb.送样时使用干冰或冰袋运送\\nc.PCR产物构建 pcr-free文库时，PCR产物不可以加 illumina测序接头（P5、P7序列、搭桥序列）\\n文库类型 浓度 体积 总量 备注\\n扩增子（pcr产物单建库） - 20μl≤V≤120μl >1500ng\\n针对核酸有杂质、污染、粘稠、颜色\\n等情况,需要过柱纯化后送样 或者酌\\nPCR-free文库 350bp >24ng/μL 20μl≤V≤120μl >2μg'),\n",
       "  0.3583483703689322),\n",
       " (Document(id='09c53262-1697-4deb-9b59-5d112120f29b', metadata={'source': 'testpdf.pdf', 'file_path': 'testpdf.pdf', 'page': 0, 'total_pages': 12, 'Author': 'wangl', 'Creator': 'Microsoft® Word 2019', 'CreationDate': \"D:20250314161411+08'00'\", 'ModDate': \"D:20250314161411+08'00'\", 'Producer': 'Microsoft® Word 2019'}, page_content='允思拓生物科技售前 AI 工程师培训资料\\n第一部分：公司主营业务介绍\\n1.1 公司概况\\n允思拓（天津）生物科技有限公司成立于2023 年 4 月，注册资本 200 万元，总部位于天津经济技术开发区滨\\n海 - 中关村科技园。公司聚焦微生物、基因组及转录组技术领域，依托生物信息学与 AI 技术整合，作为一家聚\\n焦生物科技领域的创新型企业，致力于为高校、科研院所、医疗机构及农业企业提供专业化服务。\\n1.2 主要产品与服务\\n• 微生物：\\n1、病原微生物监测预警；\\n技术应用：开发新冠病毒监测预警技术、基于高通量测序的病原细菌溯源算法，实现快速病原体鉴定与传\\n播链追踪；结合基因组、转录组数据，构建病原微生物进化树，辅助疫情防控与溯源决策。\\n2、草图\\n3、完成图\\n4、扩增子\\n5、宏基因组\\n• 基因组：\\n1、全基因组survey\\n2、基因组组装、注释\\n3、动植物基因组T2T分析\\n4、图形泛基因组分析\\n5、比较基因组分析\\n6、Hic辅助染色体挂载分析\\n7、全基因组甲基化分析\\n8、全基因组Gwas分析\\n• 转录组：\\n1、原核/真核转录组分析\\n2、Pacbio全长转录组分析\\n3、宏转录组分析\\n4、smallRNA/lncRNA分析\\n1.3 技术优势\\n• 核心技术：'),\n",
       "  0.3552782253360046),\n",
       " (Document(id='f33014d6-a991-458b-9f9e-1f76b7e91822', metadata={'source': 'testpdf.pdf', 'file_path': 'testpdf.pdf', 'page': 8, 'total_pages': 12, 'Author': 'wangl', 'Creator': 'Microsoft® Word 2019', 'CreationDate': \"D:20250314161411+08'00'\", 'ModDate': \"D:20250314161411+08'00'\", 'Producer': 'Microsoft® Word 2019'}, page_content='•\\n•\\n5.1.1 核酸样本检测方法\\n• (客户在核酸样本寄送前，需提供样本基本质控结果，常见样本质控包括 Qubit®、NanoDropTM、\\nAGE（琼脂糖凝胶电泳）或者 Agilent 2100中一种或多种形式的样品分析结果。\\n5.1.2 核酸样本检测项目及说明\\n• v：体积（Volume），样品（溶液）体积。\\nm：总量（Total Mass），DNA/RNA总量。\\nc：浓度（Concentration），DNA/RNA浓度。\\nOD260/280：OD260/280比值，DNA检测中 260与280吸光度值比，反映 DNA纯度。\\nOD260/230：OD260/230比值，DNA检测中 260与230吸光度值比，反映 DNA纯度。\\n5.1.3 样品分类\\n• Pass：合格，质量满足二代建库要求。\\nFail：样品质量不满足建库测序要求，不建议使用。\\n5.1.4 风险与建议\\n• 总量不足或浓度过低存在以下风险：1、文库构建可能失败；2、文库产量低不能上机测序或测序数\\n据不足；3、影响文库随机性、数据覆盖度偏低。因此对于核酸总量不足、过低或降解的样本，若仍需要建库，则请自\\n行承担责任与风险。\\n降解样品：影响文库随机性，可造成 duplication偏高等。\\n•\\n•'),\n",
       "  0.3524640381140838)]"
      ]
     },
     "execution_count": 22,
     "metadata": {},
     "output_type": "execute_result"
    }
   ],
   "source": [
    "query=\"我要做细菌框架图（1G）,大概要多少钱？\"\n",
    "db.similarity_search_with_relevance_scores(query)"
   ]
  }
 ],
 "metadata": {
  "kernelspec": {
   "display_name": "deepseek",
   "language": "python",
   "name": "python3"
  },
  "language_info": {
   "codemirror_mode": {
    "name": "ipython",
    "version": 3
   },
   "file_extension": ".py",
   "mimetype": "text/x-python",
   "name": "python",
   "nbconvert_exporter": "python",
   "pygments_lexer": "ipython3",
   "version": "3.12.9"
  }
 },
 "nbformat": 4,
 "nbformat_minor": 2
}
