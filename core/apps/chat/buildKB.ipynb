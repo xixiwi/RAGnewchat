{
 "cells": [
  {
   "cell_type": "code",
   "execution_count": 8,
   "metadata": {},
   "outputs": [],
   "source": [
    "from langchain_community.document_loaders import PDFPlumberLoader\n",
    "from langchain.text_splitter import RecursiveCharacterTextSplitter\n",
    "from langchain_community.embeddings import OllamaEmbeddings\n",
    "from langchain_community.vectorstores import Chroma\n",
    "import glob\n",
    "\n",
    "# 配置信息\n",
    "PDF_FILES_PATH = 'KB3/pdfs/*.pdf'\n",
    "EMBEDDING_MODEL = \"nomic-embed-text\"\n",
    "CHROMA_DB_PATH = 'chroma_db'\n",
    "CHUNK_SIZE = 2000\n",
    "CHUNK_OVERLAP = 200\n",
    "\n",
    "def load_and_split_pdf(files_path):\n",
    "    try:\n",
    "        pdf_files = glob.glob(files_path)\n",
    "        if not pdf_files:\n",
    "            print(f\"未找到符合路径 {files_path} 的PDF文件。\")\n",
    "            return []\n",
    "        all_docs = []\n",
    "        for file in pdf_files:\n",
    "            loader = PDFPlumberLoader(file)\n",
    "            docs = loader.load()\n",
    "            all_docs.extend(docs)\n",
    "\n",
    "        text_splitter = RecursiveCharacterTextSplitter(chunk_size=CHUNK_SIZE, chunk_overlap=CHUNK_OVERLAP,add_start_index=True)\n",
    "        all_splits = text_splitter.split_documents(all_docs)\n",
    "        print(f\"成功加载并分割 {len(all_splits)} 个文本块。\")\n",
    "        return all_splits\n",
    "    except Exception as e:\n",
    "        print(f\"加载和切分 PDF 文件时出错: {e}\")\n",
    "        return []\n",
    "\n",
    "def build_vector_store():\n",
    "    all_splits = load_and_split_pdf(PDF_FILES_PATH)\n",
    "    if not all_splits:\n",
    "        return None\n",
    "    try:\n",
    "        local_embeddings = OllamaEmbeddings(model=EMBEDDING_MODEL)\n",
    "        vectorstore = Chroma.from_documents(documents=all_splits, embedding=local_embeddings, persist_directory=CHROMA_DB_PATH)\n",
    "        vectorstore.persist()\n",
    "        print(\"向量存储构建完成并持久化到目录\")\n",
    "        return vectorstore\n",
    "    except Exception as e:\n",
    "        print(f\"初始化向量存储时出错: {e}\")\n",
    "        return None"
   ]
  },
  {
   "cell_type": "code",
   "execution_count": 9,
   "metadata": {},
   "outputs": [
    {
     "name": "stdout",
     "output_type": "stream",
     "text": [
      "成功加载并分割 64 个文本块。\n",
      "向量存储构建完成并持久化到目录\n"
     ]
    },
    {
     "data": {
      "text/plain": [
       "<langchain_community.vectorstores.chroma.Chroma at 0x7e0beb5ccbf0>"
      ]
     },
     "execution_count": 9,
     "metadata": {},
     "output_type": "execute_result"
    }
   ],
   "source": [
    "build_vector_store()"
   ]
  }
 ],
 "metadata": {
  "kernelspec": {
   "display_name": "deepseek",
   "language": "python",
   "name": "python3"
  },
  "language_info": {
   "codemirror_mode": {
    "name": "ipython",
    "version": 3
   },
   "file_extension": ".py",
   "mimetype": "text/x-python",
   "name": "python",
   "nbconvert_exporter": "python",
   "pygments_lexer": "ipython3",
   "version": "3.12.9"
  }
 },
 "nbformat": 4,
 "nbformat_minor": 2
}
